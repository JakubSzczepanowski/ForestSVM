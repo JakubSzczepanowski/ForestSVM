{
 "cells": [
  {
   "cell_type": "code",
   "execution_count": 47,
   "metadata": {},
   "outputs": [],
   "source": [
    "from dataclasses import dataclass\n",
    "from typing import Iterable, Literal\n",
    "import pandas as pd\n",
    "import math\n",
    "from sklearn.preprocessing import OrdinalEncoder\n",
    "import numpy as np"
   ]
  },
  {
   "cell_type": "code",
   "execution_count": 48,
   "metadata": {},
   "outputs": [],
   "source": [
    "class Node:\n",
    "\n",
    "    def __init__(self, feature_name: str, value: any, depth_index: int = 0):\n",
    "        self.feature_name = feature_name\n",
    "        self.value = value\n",
    "        self.depth_index = depth_index\n",
    "        self.children: Iterable[Node] = []\n",
    "        self.class_label = None\n",
    "\n",
    "    def __str__(self) -> str:\n",
    "        return '-'*self.depth_index + f'{self.feature_name}!{self.value}!{self.class_label}' + '\\n'.join([str(child) for child in self.children])\n",
    "\n",
    "    def parent_equal(self, other):\n",
    "        if self is other:\n",
    "            return self\n",
    "        for child in self.children:\n",
    "            child.parent_equal(other)\n",
    "\n",
    "    def add_level(self, data: Iterable):\n",
    "        self.children = [Node(None, d, self.depth_index + 1) for d in data]\n",
    "        return self.children\n",
    "\n",
    "    def split_epoch(self, X: pd.DataFrame, y: np.array, rand_features:bool=True):\n",
    "        if rand_features:\n",
    "            X = X[np.random.choice(X.columns, size=math.floor(math.sqrt(len(X.columns))), replace=False)]\n",
    "        unique, counts = np.unique(y, return_counts=True)\n",
    "        if len(X.columns) == 0 or len(unique) == 1:\n",
    "            class_index = 0\n",
    "            max_count = 0\n",
    "            for index, c in enumerate(counts):\n",
    "                if c > max_count:\n",
    "                    max_count = c\n",
    "                    class_index = index\n",
    "            self.class_label = unique[class_index]\n",
    "            return\n",
    "\n",
    "        labels_length = len(y)\n",
    "        positive_labels_prop = counts[1]/labels_length\n",
    "        negative_labels_prop = counts[0]/labels_length\n",
    "        whole_entropy = DecisionTreeID3.entropy(positive_labels_prop, negative_labels_prop)\n",
    "        feature_unique_values: dict[str, np.array] = {}\n",
    "        num_of_rows = len(X.index)\n",
    "        best_feature = FeatureInfo('', 0)\n",
    "        \n",
    "        for feature_name in X.columns:\n",
    "            positive_pairs: dict[str, int] = {}\n",
    "            information_gain = whole_entropy\n",
    "            for index, value in enumerate(X[feature_name]):\n",
    "                if value not in positive_pairs.keys():\n",
    "                    positive_pairs[value] = 0\n",
    "                if y[index] == 1:\n",
    "                    positive_pairs[value] += 1\n",
    "            unique, counts = np.unique(X[feature_name], return_counts=True)\n",
    "            for index, value in enumerate(unique):\n",
    "                positive_prop = positive_pairs[value]/counts[index]\n",
    "                entropy = DecisionTreeID3.entropy(positive_prop, 1-positive_prop)\n",
    "                information_gain -= counts[index]/num_of_rows*entropy\n",
    "            feature_unique_values[feature_name] = unique\n",
    "            if best_feature.information_gain <= information_gain:\n",
    "                best_feature = FeatureInfo(feature_name, information_gain)\n",
    "        self.feature_name = best_feature.feature_name\n",
    "        for child in self.add_level(feature_unique_values[self.feature_name]):\n",
    "            new_indexes = X[self.feature_name] == child.value\n",
    "            child.split_epoch(X.drop(self.feature_name, axis=1).loc[new_indexes], y[list(new_indexes)])\n",
    "\n",
    "    def predict_cascade(self, row: pd.Series) -> any:\n",
    "        if self.class_label is not None:\n",
    "            return self.class_label\n",
    "        for child in self.children:\n",
    "            if row[self.feature_name] == child.value:\n",
    "                return child.predict_cascade(row)\n",
    "\n",
    "@dataclass\n",
    "class FeatureInfo:\n",
    "    feature_name: str\n",
    "    information_gain: float\n",
    "\n",
    "class DecisionTreeID3:\n",
    "\n",
    "    def __init__(self):\n",
    "        self.root = Node(None, None)\n",
    "        self.depth = 0\n",
    "\n",
    "    def __str__(self) -> str:\n",
    "        return str(self.root)\n",
    "\n",
    "    def fit(self, X: pd.DataFrame, y: np.array, rand_features:bool=True):\n",
    "        self.root.split_epoch(X, y, rand_features)\n",
    "        return self\n",
    "\n",
    "    def predict(self, X: pd.DataFrame) -> np.array:\n",
    "        predict_result = []\n",
    "        for row in range(len(X.index)):\n",
    "            predict_result.append(self.root.predict_cascade(X.loc[row]))\n",
    "        return np.array(predict_result)\n",
    "         \n",
    "    @staticmethod\n",
    "    def entropy(positive_proportion: float, negative_proportion: float) -> float:\n",
    "        return (-positive_proportion*math.log2(positive_proportion) if positive_proportion != 0 else 0) -(negative_proportion*math.log2(negative_proportion) if negative_proportion != 0 else 0) "
   ]
  },
  {
   "cell_type": "code",
   "execution_count": 49,
   "metadata": {},
   "outputs": [],
   "source": [
    "class RandomForestClassifier:\n",
    "    \n",
    "    def __init__(self, n_estimators:int=100, rand_features:bool=True):\n",
    "        self.n_estimators: int = n_estimators\n",
    "        self.estimators: list[DecisionTreeID3] = []\n",
    "        self.rand_features = rand_features\n",
    "\n",
    "    def fit(self, X: pd.DataFrame, y: np.array):\n",
    "        n = len(X.index)\n",
    "        for i in range(self.n_estimators):\n",
    "            bootstrap_samples = np.random.randint(n, size=n)\n",
    "            new_estimator = DecisionTreeID3().fit(X.iloc[bootstrap_samples], y[bootstrap_samples], self.rand_features)\n",
    "            self.estimators.append(new_estimator)\n",
    "        return self\n",
    "\n",
    "    def predict(self, X: pd.DataFrame) -> np.array:\n",
    "        counters: list[dict] = [{}]*len(X.index)\n",
    "        for tree in self.estimators:\n",
    "            prediction = tree.predict(X)\n",
    "            for index, label in enumerate(prediction):\n",
    "                if label in counters[index]:\n",
    "                    counters[index][label] += 1\n",
    "                else:\n",
    "                    counters[index][label] = 1\n",
    "\n",
    "        return np.array(list(map(lambda elem: max(elem, key=elem.get), counters)))"
   ]
  },
  {
   "cell_type": "code",
   "execution_count": 50,
   "metadata": {},
   "outputs": [],
   "source": [
    "df = pd.DataFrame({'Opady': ['brak', 'mżawka', 'burza', 'burza', 'brak', 'brak'], 'Temperatura': ['ciepło', 'ciepło', 'ciepło', 'zimno', 'zimno', 'zimno'], 'Mgła': ['brak', 'lekka', 'brak', 'lekka', 'duża', 'brak'], 'Stan pogody': ['dobra', 'dobra', 'zła', 'zła', 'zła', 'dobra']})\n",
    "X = df.drop('Stan pogody', axis=1)\n",
    "y = df['Stan pogody'].copy()\n",
    "enc = OrdinalEncoder(categories=[['zła', 'dobra']], dtype=np.int8)\n",
    "y = enc.fit_transform(y.values.reshape(-1,1)).flatten()"
   ]
  },
  {
   "cell_type": "code",
   "execution_count": 51,
   "metadata": {},
   "outputs": [
    {
     "data": {
      "text/plain": [
       "<__main__.RandomForestClassifier at 0x154e428ad90>"
      ]
     },
     "execution_count": 51,
     "metadata": {},
     "output_type": "execute_result"
    }
   ],
   "source": [
    "forest = RandomForestClassifier()\n",
    "forest.fit(X, y)"
   ]
  },
  {
   "cell_type": "code",
   "execution_count": 52,
   "metadata": {},
   "outputs": [
    {
     "data": {
      "text/plain": [
       "array([0, 0], dtype=int8)"
      ]
     },
     "execution_count": 52,
     "metadata": {},
     "output_type": "execute_result"
    }
   ],
   "source": [
    "forest.predict(pd.DataFrame({'Opady': ['burza', 'brak'], 'Temperatura': ['zimno', 'ciepło'], 'Mgła': ['duża', 'brak']}))"
   ]
  },
  {
   "cell_type": "code",
   "execution_count": 53,
   "metadata": {},
   "outputs": [
    {
     "name": "stdout",
     "output_type": "stream",
     "text": [
      "Temperatura!None!None-None!ciepło!1\n",
      "-None!zimno!0\n"
     ]
    }
   ],
   "source": [
    "tree = DecisionTreeID3()\n",
    "tree.fit(X, y)\n",
    "print(tree)"
   ]
  },
  {
   "cell_type": "code",
   "execution_count": 54,
   "metadata": {},
   "outputs": [
    {
     "name": "stdout",
     "output_type": "stream",
     "text": [
      "    Opady Temperatura   Mgła\n",
      "0    brak      ciepło   brak\n",
      "1  mżawka      ciepło  lekka\n",
      "2   burza      ciepło   brak\n",
      "3   burza       zimno  lekka\n",
      "4    brak       zimno   duża\n",
      "5    brak       zimno   brak [1 1 0 0 0 1]\n"
     ]
    }
   ],
   "source": [
    "print(X, y)"
   ]
  },
  {
   "cell_type": "code",
   "execution_count": 55,
   "metadata": {},
   "outputs": [
    {
     "data": {
      "text/plain": [
       "array([0, 1], dtype=int8)"
      ]
     },
     "execution_count": 55,
     "metadata": {},
     "output_type": "execute_result"
    }
   ],
   "source": [
    "tree.predict(pd.DataFrame({'Opady': ['burza', 'brak'], 'Temperatura': ['zimno', 'ciepło'], 'Mgła': ['duża', 'brak']}))"
   ]
  },
  {
   "cell_type": "code",
   "execution_count": 56,
   "metadata": {},
   "outputs": [
    {
     "data": {
      "text/html": [
       "<div>\n",
       "<style scoped>\n",
       "    .dataframe tbody tr th:only-of-type {\n",
       "        vertical-align: middle;\n",
       "    }\n",
       "\n",
       "    .dataframe tbody tr th {\n",
       "        vertical-align: top;\n",
       "    }\n",
       "\n",
       "    .dataframe thead th {\n",
       "        text-align: right;\n",
       "    }\n",
       "</style>\n",
       "<table border=\"1\" class=\"dataframe\">\n",
       "  <thead>\n",
       "    <tr style=\"text-align: right;\">\n",
       "      <th></th>\n",
       "      <th>Opady</th>\n",
       "      <th>Temperatura</th>\n",
       "      <th>Mgła</th>\n",
       "    </tr>\n",
       "  </thead>\n",
       "  <tbody>\n",
       "    <tr>\n",
       "      <th>3</th>\n",
       "      <td>burza</td>\n",
       "      <td>zimno</td>\n",
       "      <td>lekka</td>\n",
       "    </tr>\n",
       "    <tr>\n",
       "      <th>3</th>\n",
       "      <td>burza</td>\n",
       "      <td>zimno</td>\n",
       "      <td>lekka</td>\n",
       "    </tr>\n",
       "    <tr>\n",
       "      <th>5</th>\n",
       "      <td>brak</td>\n",
       "      <td>zimno</td>\n",
       "      <td>brak</td>\n",
       "    </tr>\n",
       "    <tr>\n",
       "      <th>4</th>\n",
       "      <td>brak</td>\n",
       "      <td>zimno</td>\n",
       "      <td>duża</td>\n",
       "    </tr>\n",
       "    <tr>\n",
       "      <th>5</th>\n",
       "      <td>brak</td>\n",
       "      <td>zimno</td>\n",
       "      <td>brak</td>\n",
       "    </tr>\n",
       "    <tr>\n",
       "      <th>0</th>\n",
       "      <td>brak</td>\n",
       "      <td>ciepło</td>\n",
       "      <td>brak</td>\n",
       "    </tr>\n",
       "  </tbody>\n",
       "</table>\n",
       "</div>"
      ],
      "text/plain": [
       "   Opady Temperatura   Mgła\n",
       "3  burza       zimno  lekka\n",
       "3  burza       zimno  lekka\n",
       "5   brak       zimno   brak\n",
       "4   brak       zimno   duża\n",
       "5   brak       zimno   brak\n",
       "0   brak      ciepło   brak"
      ]
     },
     "execution_count": 56,
     "metadata": {},
     "output_type": "execute_result"
    }
   ],
   "source": [
    "n = len(X.index)\n",
    "X.iloc[np.random.randint(n, size=n)] #bootstrap"
   ]
  },
  {
   "cell_type": "code",
   "execution_count": 57,
   "metadata": {},
   "outputs": [
    {
     "name": "stdout",
     "output_type": "stream",
     "text": [
      "    Opady Temperatura   Mgła\n",
      "0    brak      ciepło   brak\n",
      "1  mżawka      ciepło  lekka\n",
      "2   burza      ciepło   brak\n",
      "3   burza       zimno  lekka\n",
      "4    brak       zimno   duża\n",
      "5    brak       zimno   brak [1 1 0 0 0 1]    Opady Temperatura   Mgła\n",
      "2  burza      ciepło   brak\n",
      "4   brak       zimno   duża\n",
      "2  burza      ciepło   brak\n",
      "2  burza      ciepło   brak\n",
      "0   brak      ciepło   brak\n",
      "3  burza       zimno  lekka [0 0 0 0 1 0]\n"
     ]
    }
   ],
   "source": [
    "sample = np.random.randint(n, size=n)\n",
    "print(X, y, X.iloc[sample], y[sample])"
   ]
  },
  {
   "cell_type": "code",
   "execution_count": 58,
   "metadata": {},
   "outputs": [
    {
     "name": "stdout",
     "output_type": "stream",
     "text": [
      "1.67 µs ± 33.6 ns per loop (mean ± std. dev. of 7 runs, 1000000 loops each)\n"
     ]
    }
   ],
   "source": [
    "%timeit np.array(list(map(lambda elem: max(elem, key=elem.get), [{'a':1, 'b':2}])))"
   ]
  },
  {
   "cell_type": "code",
   "execution_count": 59,
   "metadata": {},
   "outputs": [
    {
     "name": "stdout",
     "output_type": "stream",
     "text": [
      "1.39 µs ± 19.1 ns per loop (mean ± std. dev. of 7 runs, 1000000 loops each)\n"
     ]
    }
   ],
   "source": [
    "%timeit np.fromiter(map(lambda elem: max(elem, key=elem.get), [{1:1, 2:2}]), dtype=np.int64)"
   ]
  },
  {
   "cell_type": "code",
   "execution_count": 60,
   "metadata": {},
   "outputs": [
    {
     "name": "stdout",
     "output_type": "stream",
     "text": [
      "Mgła!None!None-None!brak!1\n",
      "-None!duża!0\n",
      "-None!lekka!0\n"
     ]
    }
   ],
   "source": [
    "print(forest.estimators[0])"
   ]
  },
  {
   "cell_type": "code",
   "execution_count": 61,
   "metadata": {},
   "outputs": [
    {
     "data": {
      "text/plain": [
       "array([1, 1, 1], dtype=int8)"
      ]
     },
     "execution_count": 61,
     "metadata": {},
     "output_type": "execute_result"
    }
   ],
   "source": [
    "n = len(X.index)\n",
    "elo = np.random.randint(n, size=n)\n",
    "test = X.loc[elo]\n",
    "test2 = y[elo]\n",
    "test.loc[pd.Series([True, True, False, True, False, False])]\n",
    "test2[pd.Series([True, True, False, True, False, False])]"
   ]
  },
  {
   "cell_type": "code",
   "execution_count": 62,
   "metadata": {},
   "outputs": [
    {
     "data": {
      "text/plain": [
       "array([1, 1, 1], dtype=int8)"
      ]
     },
     "execution_count": 62,
     "metadata": {},
     "output_type": "execute_result"
    }
   ],
   "source": [
    "test2[pd.Series([True, True, False, True, False, False])]"
   ]
  },
  {
   "cell_type": "code",
   "execution_count": 63,
   "metadata": {},
   "outputs": [
    {
     "data": {
      "text/plain": [
       "array([0], dtype=int8)"
      ]
     },
     "execution_count": 63,
     "metadata": {},
     "output_type": "execute_result"
    }
   ],
   "source": [
    "test2[pd.Series([False, False, False, False, True, False], index=[4, 4 ,2, 5, 1, 0])]"
   ]
  },
  {
   "cell_type": "code",
   "execution_count": 64,
   "metadata": {},
   "outputs": [
    {
     "data": {
      "text/plain": [
       "(False, False, False, False, True, False)"
      ]
     },
     "execution_count": 64,
     "metadata": {},
     "output_type": "execute_result"
    }
   ],
   "source": [
    "tuple(pd.Series([False, False, False, False, True, False], index=[4, 4 ,2, 5, 1, 0]))#.reset_index(drop=True)"
   ]
  },
  {
   "cell_type": "code",
   "execution_count": 65,
   "metadata": {},
   "outputs": [
    {
     "data": {
      "text/plain": [
       "array([1, 1, 1, 1], dtype=int8)"
      ]
     },
     "execution_count": 65,
     "metadata": {},
     "output_type": "execute_result"
    }
   ],
   "source": [
    "test2[list(test['Opady'] == 'brak')]"
   ]
  },
  {
   "cell_type": "code",
   "execution_count": 66,
   "metadata": {},
   "outputs": [
    {
     "data": {
      "text/plain": [
       "array([1, 1, 1, 1, 0, 0], dtype=int8)"
      ]
     },
     "execution_count": 66,
     "metadata": {},
     "output_type": "execute_result"
    }
   ],
   "source": [
    "test2"
   ]
  },
  {
   "cell_type": "code",
   "execution_count": 67,
   "metadata": {},
   "outputs": [
    {
     "data": {
      "text/plain": [
       "[True, True, True, True, False, False]"
      ]
     },
     "execution_count": 67,
     "metadata": {},
     "output_type": "execute_result"
    }
   ],
   "source": [
    "list(test['Opady'] == 'brak')"
   ]
  },
  {
   "cell_type": "code",
   "execution_count": null,
   "metadata": {},
   "outputs": [],
   "source": []
  }
 ],
 "metadata": {
  "kernelspec": {
   "display_name": "Python 3",
   "language": "python",
   "name": "python3"
  },
  "language_info": {
   "codemirror_mode": {
    "name": "ipython",
    "version": 3
   },
   "file_extension": ".py",
   "mimetype": "text/x-python",
   "name": "python",
   "nbconvert_exporter": "python",
   "pygments_lexer": "ipython3",
   "version": "3.9.6"
  },
  "orig_nbformat": 4,
  "vscode": {
   "interpreter": {
    "hash": "bf4fbbcfb44b62809ee9ef976aff62d8f85ac4ea82e40788fda9594addf376e6"
   }
  }
 },
 "nbformat": 4,
 "nbformat_minor": 2
}
