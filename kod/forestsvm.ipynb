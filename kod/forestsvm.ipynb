{
 "cells": [
  {
   "cell_type": "code",
   "execution_count": 1,
   "metadata": {},
   "outputs": [],
   "source": [
    "from dataclasses import dataclass\n",
    "from typing import Iterable, Literal\n",
    "import pandas as pd\n",
    "import math\n",
    "from sklearn.preprocessing import OrdinalEncoder\n",
    "import numpy as np"
   ]
  },
  {
   "cell_type": "code",
   "execution_count": 58,
   "metadata": {},
   "outputs": [],
   "source": [
    "class Node:\n",
    "\n",
    "    def __init__(self, feature_name: str, value: any, depth_index: int = 0):\n",
    "        self.feature_name = feature_name\n",
    "        self.value = value\n",
    "        self.depth_index = depth_index\n",
    "        self.children: Iterable[Node] = []\n",
    "        self.class_label = None\n",
    "\n",
    "    def __str__(self) -> str:\n",
    "        return '-'*self.depth_index + f'{self.feature_name}!{self.value}!{self.class_label}' + '\\n'.join([str(child) for child in self.children])\n",
    "\n",
    "    def parent_equal(self, other):\n",
    "        if self is other:\n",
    "            return self\n",
    "        for child in self.children:\n",
    "            child.parent_equal(other)\n",
    "\n",
    "    def add_level(self, data: Iterable):\n",
    "        self.children = [Node(None, d, self.depth_index + 1) for d in data]\n",
    "        return self.children\n",
    "\n",
    "    def split_epoch(self, X: pd.DataFrame, y: np.array):\n",
    "        \n",
    "        unique, counts = np.unique(y, return_counts=True)\n",
    "        if len(X.columns) == 0 or len(unique) == 1:\n",
    "            class_index = 0\n",
    "            max_count = 0\n",
    "            for index, c in enumerate(counts):\n",
    "                if c > max_count:\n",
    "                    max_count = c\n",
    "                    class_index = index\n",
    "            self.class_label = unique[class_index]\n",
    "            return\n",
    "\n",
    "        labels_length = len(y)\n",
    "        positive_labels_prop = counts[1]/labels_length\n",
    "        negative_labels_prop = counts[0]/labels_length\n",
    "        whole_entropy = DecisionTreeID3.entropy(positive_labels_prop, negative_labels_prop)\n",
    "        feature_unique_values: dict[str, np.array] = {}\n",
    "        num_of_rows = len(X.index)\n",
    "        best_feature = FeatureInfo('', 0)\n",
    "        \n",
    "        for feature_name in X.columns:\n",
    "            positive_pairs: dict[str, int] = {}\n",
    "            information_gain = whole_entropy\n",
    "            for index, value in enumerate(X[feature_name]):\n",
    "                if value not in positive_pairs.keys():\n",
    "                    positive_pairs[value] = 0\n",
    "                if y[index] == 1:\n",
    "                    positive_pairs[value] += 1\n",
    "            unique, counts = np.unique(X[feature_name], return_counts=True)\n",
    "            for index, value in enumerate(unique):\n",
    "                positive_prop = positive_pairs[value]/counts[index]\n",
    "                entropy = DecisionTreeID3.entropy(positive_prop, 1-positive_prop)\n",
    "                information_gain -= counts[index]/num_of_rows*entropy\n",
    "            feature_unique_values[feature_name] = unique\n",
    "            if best_feature.information_gain < information_gain:\n",
    "                best_feature = FeatureInfo(feature_name, information_gain)\n",
    "        self.feature_name = best_feature.feature_name\n",
    "        for child in self.add_level(feature_unique_values[self.feature_name]):\n",
    "            new_indexes = X[self.feature_name] == child.value\n",
    "            child.split_epoch(X.drop(self.feature_name, axis=1).loc[new_indexes], y[new_indexes])\n",
    "\n",
    "    def predict_cascade(self, row: pd.Series) -> any:\n",
    "        if self.class_label is not None:\n",
    "            return self.class_label\n",
    "        for child in self.children:\n",
    "            if row[self.feature_name] == child.value:\n",
    "                return child.predict_cascade(row)\n",
    "\n",
    "@dataclass\n",
    "class FeatureInfo:\n",
    "    feature_name: str\n",
    "    information_gain: float\n",
    "\n",
    "class DecisionTreeID3:\n",
    "\n",
    "    def __init__(self):\n",
    "        self.root = Node(None, None)\n",
    "        self.depth = 0\n",
    "\n",
    "    def __str__(self) -> str:\n",
    "        return str(self.root)\n",
    "\n",
    "    def fit(self, X: pd.DataFrame, y: np.array):\n",
    "        self.root.split_epoch(X, y)\n",
    "\n",
    "    def predict(self, X: pd.DataFrame) -> np.array:\n",
    "        predict_result = []\n",
    "        for row in range(len(X.index)):\n",
    "            predict_result.append(self.root.predict_cascade(X.loc[row]))\n",
    "        return np.array(predict_result)\n",
    "         \n",
    "    @staticmethod\n",
    "    def entropy(positive_proportion: float, negative_proportion: float) -> float:\n",
    "        return (-positive_proportion*math.log2(positive_proportion) if positive_proportion != 0 else 0) -(negative_proportion*math.log2(negative_proportion) if negative_proportion != 0 else 0) "
   ]
  },
  {
   "cell_type": "code",
   "execution_count": 42,
   "metadata": {},
   "outputs": [],
   "source": [
    "df = pd.DataFrame({'Opady': ['brak', 'mżawka', 'burza', 'burza', 'brak', 'brak'], 'Temperatura': ['ciepło', 'ciepło', 'ciepło', 'zimno', 'zimno', 'zimno'], 'Mgła': ['brak', 'lekka', 'brak', 'lekka', 'duża', 'brak'], 'Stan pogody': ['dobra', 'dobra', 'zła', 'zła', 'zła', 'dobra']})\n",
    "X = df.drop('Stan pogody', axis=1)\n",
    "y = df['Stan pogody'].copy()\n",
    "enc = OrdinalEncoder(categories=[['zła', 'dobra']], dtype=np.int8)\n",
    "y = enc.fit_transform(y.values.reshape(-1,1)).flatten()"
   ]
  },
  {
   "cell_type": "code",
   "execution_count": 59,
   "metadata": {},
   "outputs": [
    {
     "name": "stdout",
     "output_type": "stream",
     "text": [
      "Opady!None!None-Mgła!brak!None--None!brak!1\n",
      "--None!duża!0\n",
      "-None!burza!0\n",
      "-None!mżawka!1\n"
     ]
    }
   ],
   "source": [
    "tree = DecisionTreeID3()\n",
    "tree.fit(X, y)\n",
    "print(tree)"
   ]
  },
  {
   "cell_type": "code",
   "execution_count": 57,
   "metadata": {},
   "outputs": [
    {
     "name": "stdout",
     "output_type": "stream",
     "text": [
      "    Opady Temperatura   Mgła\n",
      "0    brak      ciepło   brak\n",
      "1  mżawka      ciepło  lekka\n",
      "2   burza      ciepło   brak\n",
      "3   burza       zimno  lekka\n",
      "4    brak       zimno   duża\n",
      "5    brak       zimno   brak [1 1 0 0 0 1]\n"
     ]
    }
   ],
   "source": [
    "print(X, y)"
   ]
  },
  {
   "cell_type": "code",
   "execution_count": 56,
   "metadata": {},
   "outputs": [
    {
     "data": {
      "text/plain": [
       "array([0, 1], dtype=int8)"
      ]
     },
     "execution_count": 56,
     "metadata": {},
     "output_type": "execute_result"
    }
   ],
   "source": [
    "tree.predict(pd.DataFrame({'Opady': ['burza', 'brak', ], 'Temperatura': ['zimno', 'ciepło'], 'Mgła': ['duża', 'brak']}))"
   ]
  },
  {
   "cell_type": "code",
   "execution_count": null,
   "metadata": {},
   "outputs": [],
   "source": []
  }
 ],
 "metadata": {
  "kernelspec": {
   "display_name": "Python 3",
   "language": "python",
   "name": "python3"
  },
  "language_info": {
   "codemirror_mode": {
    "name": "ipython",
    "version": 3
   },
   "file_extension": ".py",
   "mimetype": "text/x-python",
   "name": "python",
   "nbconvert_exporter": "python",
   "pygments_lexer": "ipython3",
   "version": "3.9.6"
  },
  "orig_nbformat": 4,
  "vscode": {
   "interpreter": {
    "hash": "bf4fbbcfb44b62809ee9ef976aff62d8f85ac4ea82e40788fda9594addf376e6"
   }
  }
 },
 "nbformat": 4,
 "nbformat_minor": 2
}
